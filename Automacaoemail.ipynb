{
 "cells": [
  {
   "cell_type": "markdown",
   "id": "bb94d688",
   "metadata": {},
   "source": [
    "# Automação de envio do relatório"
   ]
  },
  {
   "cell_type": "markdown",
   "id": "f0853a07",
   "metadata": {},
   "source": [
    " **- Importando as bibliotecas e baixando a base de dados**"
   ]
  },
  {
   "cell_type": "code",
   "execution_count": 34,
   "id": "9ce8781e",
   "metadata": {},
   "outputs": [],
   "source": [
    "import pandas as pd\n",
    "import time\n",
    "import pyautogui\n",
    "import pyperclip\n",
    "\n",
    "# link do drive com a base de dados: 'https://drive.google.com/drive/folders/149xknr9JvrlEnhNWO49zPcw0PW5icxga?usp=sharing'\n",
    "# Link usando durante o intensivão de python do canal 'hashtag programação'"
   ]
  },
  {
   "cell_type": "code",
   "execution_count": 35,
   "id": "a26c1080",
   "metadata": {},
   "outputs": [],
   "source": [
    "pyautogui.hotkey('ctrl', 't')\n",
    "time.sleep(1)\n",
    "pyperclip.copy('https://drive.google.com/drive/folders/149xknr9JvrlEnhNWO49zPcw0PW5icxga?usp=sharing')\n",
    "time.sleep(0.8)\n",
    "pyautogui.hotkey('ctrl', 'v')\n",
    "time.sleep(0.8)\n",
    "pyautogui.press('enter')\n",
    "time.sleep(2.9)\n",
    "pyautogui.click(x=483, y=363, clicks=2)\n",
    "time.sleep(2)\n",
    "pyautogui.click(x=515, y=378, button='right')\n",
    "time.sleep(0.5)\n",
    "pyautogui.click(x=625, y=907)"
   ]
  },
  {
   "cell_type": "markdown",
   "id": "0b2217f2",
   "metadata": {},
   "source": [
    "**- Analisando a base de dados e buscando os resultados da (Quantidade de produtos vendidos e o faturamento)**"
   ]
  },
  {
   "cell_type": "code",
   "execution_count": 36,
   "id": "626fb7c3",
   "metadata": {},
   "outputs": [
    {
     "data": {
      "text/html": [
       "<div>\n",
       "<style scoped>\n",
       "    .dataframe tbody tr th:only-of-type {\n",
       "        vertical-align: middle;\n",
       "    }\n",
       "\n",
       "    .dataframe tbody tr th {\n",
       "        vertical-align: top;\n",
       "    }\n",
       "\n",
       "    .dataframe thead th {\n",
       "        text-align: right;\n",
       "    }\n",
       "</style>\n",
       "<table border=\"1\" class=\"dataframe\">\n",
       "  <thead>\n",
       "    <tr style=\"text-align: right;\">\n",
       "      <th></th>\n",
       "      <th>Código Venda</th>\n",
       "      <th>Data</th>\n",
       "      <th>ID Loja</th>\n",
       "      <th>Produto</th>\n",
       "      <th>Quantidade</th>\n",
       "      <th>Valor Unitário</th>\n",
       "      <th>Valor Final</th>\n",
       "    </tr>\n",
       "  </thead>\n",
       "  <tbody>\n",
       "    <tr>\n",
       "      <th>0</th>\n",
       "      <td>65014</td>\n",
       "      <td>2019-12-01</td>\n",
       "      <td>Shopping Morumbi</td>\n",
       "      <td>Sunga Listrado</td>\n",
       "      <td>5</td>\n",
       "      <td>114</td>\n",
       "      <td>570</td>\n",
       "    </tr>\n",
       "    <tr>\n",
       "      <th>1</th>\n",
       "      <td>65014</td>\n",
       "      <td>2019-12-01</td>\n",
       "      <td>Shopping Morumbi</td>\n",
       "      <td>Casaco Listrado</td>\n",
       "      <td>1</td>\n",
       "      <td>269</td>\n",
       "      <td>269</td>\n",
       "    </tr>\n",
       "    <tr>\n",
       "      <th>2</th>\n",
       "      <td>65016</td>\n",
       "      <td>2019-12-01</td>\n",
       "      <td>Iguatemi Campinas</td>\n",
       "      <td>Sapato Listrado</td>\n",
       "      <td>2</td>\n",
       "      <td>363</td>\n",
       "      <td>726</td>\n",
       "    </tr>\n",
       "    <tr>\n",
       "      <th>3</th>\n",
       "      <td>65016</td>\n",
       "      <td>2019-12-01</td>\n",
       "      <td>Iguatemi Campinas</td>\n",
       "      <td>Casaco</td>\n",
       "      <td>1</td>\n",
       "      <td>250</td>\n",
       "      <td>250</td>\n",
       "    </tr>\n",
       "    <tr>\n",
       "      <th>4</th>\n",
       "      <td>65017</td>\n",
       "      <td>2019-12-01</td>\n",
       "      <td>Shopping SP Market</td>\n",
       "      <td>Gorro Liso</td>\n",
       "      <td>3</td>\n",
       "      <td>92</td>\n",
       "      <td>276</td>\n",
       "    </tr>\n",
       "    <tr>\n",
       "      <th>5</th>\n",
       "      <td>65018</td>\n",
       "      <td>2019-12-01</td>\n",
       "      <td>Rio Mar Shopping Fortaleza</td>\n",
       "      <td>Cueca Estampa</td>\n",
       "      <td>1</td>\n",
       "      <td>66</td>\n",
       "      <td>66</td>\n",
       "    </tr>\n",
       "    <tr>\n",
       "      <th>6</th>\n",
       "      <td>65018</td>\n",
       "      <td>2019-12-01</td>\n",
       "      <td>Rio Mar Shopping Fortaleza</td>\n",
       "      <td>Sunga Xadrez</td>\n",
       "      <td>1</td>\n",
       "      <td>116</td>\n",
       "      <td>116</td>\n",
       "    </tr>\n",
       "    <tr>\n",
       "      <th>7</th>\n",
       "      <td>65018</td>\n",
       "      <td>2019-12-01</td>\n",
       "      <td>Rio Mar Shopping Fortaleza</td>\n",
       "      <td>Casaco Listrado</td>\n",
       "      <td>1</td>\n",
       "      <td>269</td>\n",
       "      <td>269</td>\n",
       "    </tr>\n",
       "    <tr>\n",
       "      <th>8</th>\n",
       "      <td>65019</td>\n",
       "      <td>2019-12-01</td>\n",
       "      <td>Shopping União de Osasco</td>\n",
       "      <td>Polo Xadrez</td>\n",
       "      <td>2</td>\n",
       "      <td>142</td>\n",
       "      <td>284</td>\n",
       "    </tr>\n",
       "    <tr>\n",
       "      <th>9</th>\n",
       "      <td>65019</td>\n",
       "      <td>2019-12-01</td>\n",
       "      <td>Shopping União de Osasco</td>\n",
       "      <td>Tênis Linho</td>\n",
       "      <td>1</td>\n",
       "      <td>294</td>\n",
       "      <td>294</td>\n",
       "    </tr>\n",
       "  </tbody>\n",
       "</table>\n",
       "</div>"
      ],
      "text/plain": [
       "   Código Venda       Data                     ID Loja          Produto  \\\n",
       "0         65014 2019-12-01            Shopping Morumbi   Sunga Listrado   \n",
       "1         65014 2019-12-01            Shopping Morumbi  Casaco Listrado   \n",
       "2         65016 2019-12-01           Iguatemi Campinas  Sapato Listrado   \n",
       "3         65016 2019-12-01           Iguatemi Campinas           Casaco   \n",
       "4         65017 2019-12-01          Shopping SP Market       Gorro Liso   \n",
       "5         65018 2019-12-01  Rio Mar Shopping Fortaleza    Cueca Estampa   \n",
       "6         65018 2019-12-01  Rio Mar Shopping Fortaleza     Sunga Xadrez   \n",
       "7         65018 2019-12-01  Rio Mar Shopping Fortaleza  Casaco Listrado   \n",
       "8         65019 2019-12-01    Shopping União de Osasco      Polo Xadrez   \n",
       "9         65019 2019-12-01    Shopping União de Osasco      Tênis Linho   \n",
       "\n",
       "   Quantidade  Valor Unitário  Valor Final  \n",
       "0           5             114          570  \n",
       "1           1             269          269  \n",
       "2           2             363          726  \n",
       "3           1             250          250  \n",
       "4           3              92          276  \n",
       "5           1              66           66  \n",
       "6           1             116          116  \n",
       "7           1             269          269  \n",
       "8           2             142          284  \n",
       "9           1             294          294  "
      ]
     },
     "execution_count": 36,
     "metadata": {},
     "output_type": "execute_result"
    }
   ],
   "source": [
    "time.sleep(6)\n",
    "tabela = pd.read_excel(r'C:\\Users\\aleja\\Downloads\\Vendas - Dez.xlsx')\n",
    "tabela.head(10)"
   ]
  },
  {
   "cell_type": "code",
   "execution_count": 37,
   "id": "98a88f10",
   "metadata": {},
   "outputs": [
    {
     "name": "stdout",
     "output_type": "stream",
     "text": [
      "15.227 R$2.917.311,00\n"
     ]
    }
   ],
   "source": [
    "quantidadeVendas = tabela['Quantidade'].sum()\n",
    "quantidadeVendas = f'{quantidadeVendas:,}'\n",
    "quantidadeVendas = quantidadeVendas.replace(',', '.')\n",
    "faturamento = tabela['Valor Final'].sum()\n",
    "faturamento = f'R${faturamento:_.2f}'\n",
    "faturamento = faturamento.replace('.', ',').replace('_', '.')\n",
    "\n",
    "print(quantidadeVendas, faturamento)"
   ]
  },
  {
   "cell_type": "markdown",
   "id": "5493c93e",
   "metadata": {},
   "source": [
    "**- Automatizando o envio do email com o relatório**"
   ]
  },
  {
   "cell_type": "code",
   "execution_count": 38,
   "id": "d73ca34b",
   "metadata": {},
   "outputs": [],
   "source": [
    "texto = f'''Prezada equipe, bom dia\n",
    "\n",
    "Resultados das vendas de ontem\n",
    "\n",
    "produtos vendidos: {quantidadeVendas}\n",
    "faturamento: {faturamento}\n",
    "\n",
    "abraços Alejandro Mendieta.'''\n",
    "\n",
    "pyautogui.hotkey('ctrl', 't')\n",
    "time.sleep(1)\n",
    "pyperclip.copy('mail.google.com/mail/u/0/#inbox')\n",
    "time.sleep(0.8)\n",
    "pyautogui.hotkey('ctrl', 'v')\n",
    "time.sleep(0.8)\n",
    "pyautogui.press('enter')\n",
    "time.sleep(3)\n",
    "pyautogui.click(x=107, y=239)\n",
    "time.sleep(0.9)\n",
    "pyperclip.copy('alejandro777kgb@gmail.com')\n",
    "pyautogui.hotkey('ctrl', 'v')\n",
    "pyautogui.press('tab')\n",
    "pyperclip.copy('Relatório de vendas')\n",
    "pyautogui.hotkey('ctrl', 'v')\n",
    "pyautogui.press('tab')\n",
    "pyperclip.copy(texto)\n",
    "pyautogui.hotkey('ctrl', 'v')\n",
    "pyautogui.hotkey('ctrl', 'enter')"
   ]
  },
  {
   "cell_type": "markdown",
   "id": "b420e41c",
   "metadata": {},
   "source": [
    "**- Código abaixo usado para pegar posições na tela**"
   ]
  },
  {
   "cell_type": "code",
   "execution_count": 39,
   "id": "ecc6e7e0",
   "metadata": {},
   "outputs": [],
   "source": [
    "#time.sleep(6)\n",
    "#pyautogui.position()"
   ]
  }
 ],
 "metadata": {
  "kernelspec": {
   "display_name": "Python 3.10.5 64-bit",
   "language": "python",
   "name": "python3"
  },
  "language_info": {
   "codemirror_mode": {
    "name": "ipython",
    "version": 3
   },
   "file_extension": ".py",
   "mimetype": "text/x-python",
   "name": "python",
   "nbconvert_exporter": "python",
   "pygments_lexer": "ipython3",
   "version": "3.10.5"
  },
  "vscode": {
   "interpreter": {
    "hash": "e7370f93d1d0cde622a1f8e1c04877d8463912d04d973331ad4851f04de6915a"
   }
  }
 },
 "nbformat": 4,
 "nbformat_minor": 5
}
